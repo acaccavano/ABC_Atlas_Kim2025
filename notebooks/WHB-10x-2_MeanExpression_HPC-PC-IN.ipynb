{
 "cells": [
  {
   "cell_type": "code",
   "execution_count": null,
   "id": "b538d1fa-6bfc-4465-a8ac-014bc3e4db2c",
   "metadata": {},
   "outputs": [],
   "source": [
    "import pandas as pd\n",
    "import numpy as np\n",
    "import anndata\n",
    "from pathlib import Path\n",
    "import matplotlib.pyplot as plt\n",
    "\n",
    "from abc_atlas_access.abc_atlas_cache.abc_project_cache import AbcProjectCache\n",
    "from abc_atlas_access.abc_atlas_cache.anndata_utils import get_gene_data"
   ]
  },
  {
   "cell_type": "code",
   "execution_count": null,
   "id": "ef83c3ca-e56f-4a68-88a3-ff09b2bda6fa",
   "metadata": {},
   "outputs": [],
   "source": [
    "basePath = 'Z:\\\\Common\\\\Transcriptomics\\\\ABC_Atlas'\n",
    "download_base = Path(basePath)\n",
    "abc_cache = AbcProjectCache.from_cache_dir(download_base)\n",
    "\n",
    "abc_cache.current_manifest"
   ]
  },
  {
   "cell_type": "code",
   "execution_count": null,
   "id": "496053de-b500-49f9-995f-a845276c124a",
   "metadata": {},
   "outputs": [],
   "source": [
    "# Load the cell metadata.\n",
    "cell = abc_cache.get_metadata_dataframe(\n",
    "    directory='WHB-10Xv3',\n",
    "    file_name='cell_metadata',\n",
    "    dtype={'cell_label': str}\n",
    ")\n",
    "cell.set_index('cell_label', inplace=True)\n",
    "print(\"Number of cells = \", len(cell))\n",
    "\n",
    "# Load the cluster memembership metadata and combine the data with the cell data.\n",
    "membership = abc_cache.get_metadata_dataframe(\n",
    "    directory='WHB-taxonomy',\n",
    "    file_name='cluster_to_cluster_annotation_membership'\n",
    ")\n",
    "\n",
    "term_sets = abc_cache.get_metadata_dataframe(directory='WHB-taxonomy', file_name='cluster_annotation_term_set').set_index('label')\n",
    "cluster_details = membership.groupby(['cluster_alias', 'cluster_annotation_term_set_name'])['cluster_annotation_term_name'].first().unstack()\n",
    "cluster_details = cluster_details[term_sets['name']] # order columns\n",
    "cluster_details.fillna('Other', inplace=True)\n",
    "\n",
    "cluster_details.sort_values(['supercluster', 'cluster', 'subcluster'], inplace=True)\n",
    "cluster_colors = membership.groupby(['cluster_alias', 'cluster_annotation_term_set_name'])['color_hex_triplet'].first().unstack()\n",
    "cluster_colors = cluster_colors[term_sets['name']]\n",
    "cluster_colors.sort_values(['supercluster', 'cluster', 'subcluster'], inplace=True)\n",
    "cluster_colors\n",
    "\n",
    "roi = abc_cache.get_metadata_dataframe(directory='WHB-10Xv3', file_name='region_of_interest_structure_map')\n",
    "roi.set_index('region_of_interest_label', inplace=True)\n",
    "roi.rename(columns={'color_hex_triplet': 'region_of_interest_color'},\n",
    "           inplace=True)\n",
    "\n",
    "del membership\n",
    "del term_sets\n",
    "\n",
    "cell_ext = cell.join(cluster_details, on='cluster_alias')\n",
    "# cell_ext = cell_ext.join(cluster_colors, on='cluster_alias', rsuffix='_color')\n",
    "# cell_ext = cell_ext.join(roi[['region_of_interest_color']], on='region_of_interest_label')\n",
    "\n",
    "del cluster_details\n",
    "del cluster_colors\n",
    "del roi\n",
    "\n",
    "cell_ext.head(5) "
   ]
  },
  {
   "cell_type": "code",
   "execution_count": null,
   "id": "3cd1fbf9-b008-46e5-b9cf-2a64f64b4829",
   "metadata": {},
   "outputs": [],
   "source": [
    "gene = abc_cache.get_metadata_dataframe(directory='WHB-10Xv3', file_name='gene')\n",
    "gene.set_index('gene_identifier', inplace=True)\n",
    "print(\"Number of genes = \", len(gene))\n",
    "gene.head(5)"
   ]
  },
  {
   "cell_type": "code",
   "execution_count": null,
   "id": "c4b9361a-ed16-43c7-8ee2-902e95bb64c8",
   "metadata": {},
   "outputs": [],
   "source": [
    "ml = [\"WHB-10Xv3-Neurons\"] # matrix label\n",
    "sc = [\"MGE interneuron\", \"CGE interneuron\", \"LAMP5-LHX6 and Chandelier\", \"Hippocampal CA1-3\", \"Hippocampal CA4\", \"Hippocampal dentate gyrus\"] # supercluster\n",
    "an = [\"Hippocampus\"] # anatomical division\n",
    "\n",
    "# Filter cell dataframe to cells of interest\n",
    "CL = cell_ext[cell_ext['feature_matrix_label'].isin(ml)]\n",
    "CL = CL[CL['supercluster'].isin(sc)]\n",
    "CL = CL[CL['anatomical_division_label'].isin(an)]\n",
    "\n",
    "print(\"Number of cells = \", len(CL))\n",
    "CL.head(5)"
   ]
  },
  {
   "cell_type": "code",
   "execution_count": null,
   "id": "72878fe7-95b9-4d2a-843e-854ead9cc09b",
   "metadata": {},
   "outputs": [],
   "source": [
    "df = pd.read_csv(basePath + '\\\\inputs\\\\WHB_genes_HPC-PC-IN.csv')\n",
    "gn = df['gene_symbol'].tolist()\n",
    "\n",
    "gene_data = get_gene_data(\n",
    "    abc_atlas_cache = abc_cache,\n",
    "    all_cells = CL,\n",
    "    all_genes = gene,\n",
    "    selected_genes = gn\n",
    ")"
   ]
  },
  {
   "cell_type": "code",
   "execution_count": null,
   "id": "07af3773-ca9a-4d45-887d-77be6c378b8c",
   "metadata": {},
   "outputs": [],
   "source": [
    "gene_data[pd.notna(gene_data[gene_data.columns[0]])]\n",
    "gene_data = gene_data[gn]\n",
    "gene_data.head(5)"
   ]
  },
  {
   "cell_type": "code",
   "execution_count": null,
   "id": "03bad765-7cf9-444b-b95b-f334d5687fb2",
   "metadata": {},
   "outputs": [],
   "source": [
    "CL_with_genes = CL.join(gene_data)\n",
    "CL_with_genes.head(5)"
   ]
  },
  {
   "cell_type": "code",
   "execution_count": null,
   "id": "3bb199f2-8a94-4aee-b4cb-8cc27fd76fed",
   "metadata": {},
   "outputs": [],
   "source": [
    "def aggregate_by_metadata(df, gnames, value, sort = False):\n",
    "    grouped = df.groupby(value)[gnames].mean()\n",
    "    if sort:\n",
    "        grouped = grouped.sort_values(by=gnames[0], ascending=False)\n",
    "    return grouped"
   ]
  },
  {
   "cell_type": "code",
   "execution_count": null,
   "id": "7cda6592-6e50-4938-bf14-43fce142671b",
   "metadata": {},
   "outputs": [],
   "source": [
    "def plot_heatmap(df, fig_width=14, fig_height=10, cmap=plt.cm.magma_r) :\n",
    "\n",
    "    arr = df.to_numpy(dtype='float')\n",
    "\n",
    "    fig, ax = plt.subplots()\n",
    "    fig.set_size_inches(fig_width, fig_height)\n",
    "\n",
    "    im = ax.imshow(arr, cmap=cmap, aspect='auto', vmin=0, vmax=6)\n",
    "    xlabs = df.columns.values\n",
    "    ylabs = df.index.values\n",
    "    #xlabs = df.index.values\n",
    "    #ylabs = df.columns.values\n",
    "\n",
    "    ax.set_xticks(range(len(xlabs)))\n",
    "    ax.set_xticklabels(xlabs)\n",
    "\n",
    "    ax.set_yticks(range(len(ylabs)))\n",
    "    res = ax.set_yticklabels(ylabs)\n",
    "    \n",
    "    return im"
   ]
  },
  {
   "cell_type": "code",
   "execution_count": null,
   "id": "c93df4d6-b7d3-4d00-8719-f1ad00e6c104",
   "metadata": {},
   "outputs": [],
   "source": [
    "agg = aggregate_by_metadata(CL_with_genes, gene_data.columns, 'cluster')\n",
    "res = plot_heatmap(agg, 14, 24)\n",
    "agg.to_csv(basePath + '\\\\outputs\\\\HPC_AveExpressionMarkers.csv') \n",
    "plt.show()"
   ]
  },
  {
   "cell_type": "code",
   "execution_count": null,
   "id": "ebcb0c65-8b43-454d-8882-150e6e460b94",
   "metadata": {},
   "outputs": [],
   "source": [
    "HPC_Counts = CL['cluster'].value_counts()\n",
    "HPC_Counts.to_csv(basePath + '\\\\outputs\\\\HPC_Counts.csv') "
   ]
  },
  {
   "cell_type": "code",
   "execution_count": null,
   "id": "0ea37fd7-07cb-4d13-b79f-5a1155a8c018",
   "metadata": {},
   "outputs": [],
   "source": []
  }
 ],
 "metadata": {
  "kernelspec": {
   "display_name": "Python 3 (ipykernel)",
   "language": "python",
   "name": "python3"
  },
  "language_info": {
   "codemirror_mode": {
    "name": "ipython",
    "version": 3
   },
   "file_extension": ".py",
   "mimetype": "text/x-python",
   "name": "python",
   "nbconvert_exporter": "python",
   "pygments_lexer": "ipython3",
   "version": "3.12.11"
  }
 },
 "nbformat": 4,
 "nbformat_minor": 5
}
