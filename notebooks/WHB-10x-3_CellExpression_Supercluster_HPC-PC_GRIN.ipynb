{
 "cells": [
  {
   "cell_type": "code",
   "execution_count": null,
   "id": "675206d5-3284-4aab-9865-610d27daca4b",
   "metadata": {},
   "outputs": [],
   "source": [
    "import pandas as pd\n",
    "import numpy as np\n",
    "import anndata\n",
    "from pathlib import Path\n",
    "import matplotlib.pyplot as plt\n",
    "\n",
    "from abc_atlas_access.abc_atlas_cache.abc_project_cache import AbcProjectCache\n",
    "from abc_atlas_access.abc_atlas_cache.anndata_utils import get_gene_data"
   ]
  },
  {
   "cell_type": "code",
   "execution_count": null,
   "id": "3e5e8132-b64f-40db-913c-b2ed227994a4",
   "metadata": {},
   "outputs": [],
   "source": [
    "basePath = 'Z:\\\\Common\\\\Transcriptomics\\\\ABC_Atlas'\n",
    "download_base = Path(basePath)\n",
    "abc_cache = AbcProjectCache.from_cache_dir(download_base)\n",
    "\n",
    "abc_cache.current_manifest"
   ]
  },
  {
   "cell_type": "code",
   "execution_count": null,
   "id": "b06e5b47-7bfa-4137-b8d4-6f92ae02d3f0",
   "metadata": {},
   "outputs": [],
   "source": [
    "# Load the cell metadata.\n",
    "cell = abc_cache.get_metadata_dataframe(\n",
    "    directory='WHB-10Xv3',\n",
    "    file_name='cell_metadata',\n",
    "    dtype={'cell_label': str}\n",
    ")\n",
    "cell.set_index('cell_label', inplace=True)\n",
    "print(\"Number of cells = \", len(cell))\n",
    "\n",
    "# Load the cluster memembership metadata and combine the data with the cell data.\n",
    "membership = abc_cache.get_metadata_dataframe(\n",
    "    directory='WHB-taxonomy',\n",
    "    file_name='cluster_to_cluster_annotation_membership'\n",
    ")\n",
    "\n",
    "term_sets = abc_cache.get_metadata_dataframe(directory='WHB-taxonomy', file_name='cluster_annotation_term_set').set_index('label')\n",
    "cluster_details = membership.groupby(['cluster_alias', 'cluster_annotation_term_set_name'])['cluster_annotation_term_name'].first().unstack()\n",
    "cluster_details = cluster_details[term_sets['name']] # order columns\n",
    "cluster_details.fillna('Other', inplace=True)\n",
    "\n",
    "cluster_details.sort_values(['supercluster', 'cluster', 'subcluster'], inplace=True)\n",
    "cluster_colors = membership.groupby(['cluster_alias', 'cluster_annotation_term_set_name'])['color_hex_triplet'].first().unstack()\n",
    "cluster_colors = cluster_colors[term_sets['name']]\n",
    "cluster_colors.sort_values(['supercluster', 'cluster', 'subcluster'], inplace=True)\n",
    "cluster_colors\n",
    "\n",
    "roi = abc_cache.get_metadata_dataframe(directory='WHB-10Xv3', file_name='region_of_interest_structure_map')\n",
    "roi.set_index('region_of_interest_label', inplace=True)\n",
    "roi.rename(columns={'color_hex_triplet': 'region_of_interest_color'},\n",
    "           inplace=True)\n",
    "\n",
    "del membership\n",
    "del term_sets\n",
    "\n",
    "cell_ext = cell.join(cluster_details, on='cluster_alias')\n",
    "# cell_ext = cell_ext.join(cluster_colors, on='cluster_alias', rsuffix='_color')\n",
    "# cell_ext = cell_ext.join(roi[['region_of_interest_color']], on='region_of_interest_label')\n",
    "\n",
    "del cluster_details\n",
    "del cluster_colors\n",
    "del roi\n",
    "\n",
    "cell_ext.head(5) "
   ]
  },
  {
   "cell_type": "code",
   "execution_count": null,
   "id": "6b3cd7a2-0ade-47e4-a044-05799589f5ee",
   "metadata": {},
   "outputs": [],
   "source": [
    "abc_cache.list_metadata_files('WHB-10Xv3')"
   ]
  },
  {
   "cell_type": "code",
   "execution_count": null,
   "id": "5a69f40a-6780-46a5-8d3c-84590165833a",
   "metadata": {},
   "outputs": [],
   "source": [
    "gene = abc_cache.get_metadata_dataframe(directory='WHB-10Xv3', file_name='gene')\n",
    "gene.set_index('gene_identifier', inplace=True)\n",
    "print(\"Number of genes = \", len(gene))\n",
    "gene.head(5)"
   ]
  },
  {
   "cell_type": "code",
   "execution_count": null,
   "id": "f332e5dd-7683-493d-b8ad-58e73c76abeb",
   "metadata": {},
   "outputs": [],
   "source": [
    "ml = [\"WHB-10Xv3-Neurons\"] # matrix label\n",
    "sc = [\"Hippocampal CA1-3\", \"Hippocampal CA4\", \"Hippocampal dentate gyrus\"] # supercluster\n",
    "an = [\"Hippocampus\"] # anatomical division\n",
    "\n",
    "# Filter cell dataframe to cells of interest\n",
    "CL = cell_ext[cell_ext['feature_matrix_label'].isin(ml)]\n",
    "CL = CL[CL['supercluster'].isin(sc)]\n",
    "CL = CL[CL['anatomical_division_label'].isin(an)]\n",
    "\n",
    "print(\"Number of cells = \", len(CL))\n",
    "CL.head(5)"
   ]
  },
  {
   "cell_type": "code",
   "execution_count": null,
   "id": "dfcf4bc6-95f6-4b4b-a580-f0724dc64866",
   "metadata": {},
   "outputs": [],
   "source": [
    "df = pd.read_csv(basePath + '\\\\inputs\\\\WHB_genes_GRIN.csv')\n",
    "gn = df['gene_symbol'].tolist()\n",
    "\n",
    "gene_data = get_gene_data(\n",
    "    abc_atlas_cache = abc_cache,\n",
    "    all_cells = CL,\n",
    "    all_genes = gene,\n",
    "    selected_genes = gn\n",
    ")"
   ]
  },
  {
   "cell_type": "code",
   "execution_count": null,
   "id": "9ed8d117-a048-4476-a3e0-0b541559d0cb",
   "metadata": {},
   "outputs": [],
   "source": [
    "gene_data[pd.notna(gene_data[gene_data.columns[0]])]\n",
    "gene_data = gene_data[gn]\n",
    "gene_data.head(5)"
   ]
  },
  {
   "cell_type": "code",
   "execution_count": null,
   "id": "5bb14512-8d70-4379-8efa-76d946340c5a",
   "metadata": {},
   "outputs": [],
   "source": [
    "# Filter expression data by supercluster\n",
    "CA13 = gene_data[CL[\"supercluster\"] == sc[0]]\n",
    "CA4  = gene_data[CL[\"supercluster\"] == sc[1]]\n",
    "DG   = gene_data[CL[\"supercluster\"] == sc[2]]\n",
    "\n",
    "# Export expression data to CSVs\n",
    "CA13.to_csv(basePath + '\\\\outputs\\\\WHB_Supercluster_Expression_CA1-3-PC_GRIN.csv') \n",
    "CA4.to_csv(basePath + '\\\\outputs\\\\WHB_Supercluster_Expression_CA4-PC_GRIN.csv') \n",
    "DG.to_csv(basePath + '\\\\outputs\\\\WHB_Supercluster_Expression_DG-GC_GRIN.csv') "
   ]
  },
  {
   "cell_type": "code",
   "execution_count": null,
   "id": "b7933357-66cb-462d-9b42-fb7543ce135e",
   "metadata": {},
   "outputs": [],
   "source": []
  }
 ],
 "metadata": {
  "kernelspec": {
   "display_name": "Python 3 (ipykernel)",
   "language": "python",
   "name": "python3"
  },
  "language_info": {
   "codemirror_mode": {
    "name": "ipython",
    "version": 3
   },
   "file_extension": ".py",
   "mimetype": "text/x-python",
   "name": "python",
   "nbconvert_exporter": "python",
   "pygments_lexer": "ipython3",
   "version": "3.12.11"
  }
 },
 "nbformat": 4,
 "nbformat_minor": 5
}
