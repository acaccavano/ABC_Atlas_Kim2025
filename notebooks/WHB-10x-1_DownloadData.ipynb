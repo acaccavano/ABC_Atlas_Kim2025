{
 "cells": [
  {
   "cell_type": "code",
   "execution_count": null,
   "id": "917f25c5-7a54-44cf-9492-30ce21e24690",
   "metadata": {},
   "outputs": [],
   "source": [
    "pip install -U git+https://github.com/alleninstitute/abc_atlas_access"
   ]
  },
  {
   "cell_type": "code",
   "execution_count": null,
   "id": "ce39a2be-16cd-4933-bf86-d6dd74c96c2b",
   "metadata": {},
   "outputs": [],
   "source": [
    "from pathlib import Path\n",
    "from abc_atlas_access.abc_atlas_cache.abc_project_cache import AbcProjectCache"
   ]
  },
  {
   "cell_type": "code",
   "execution_count": null,
   "id": "00b60240-b42b-462a-9f1e-6044bf8b6968",
   "metadata": {},
   "outputs": [],
   "source": [
    "download_base = Path('Z:\\\\Common\\\\Transcriptomics\\\\ABC_Atlas')\n",
    "abc_cache = AbcProjectCache.from_cache_dir(download_base)\n",
    "\n",
    "abc_cache.current_manifest"
   ]
  },
  {
   "cell_type": "code",
   "execution_count": null,
   "id": "88fdb391-3e86-4851-b5ec-a5dd3c4de58c",
   "metadata": {},
   "outputs": [],
   "source": [
    "abc_cache.list_manifest_file_names"
   ]
  },
  {
   "cell_type": "code",
   "execution_count": null,
   "id": "87ada8a5-57df-4291-813e-06e3da03ec60",
   "metadata": {},
   "outputs": [],
   "source": [
    "abc_cache.load_manifest('releases/20250531/manifest.json')\n",
    "abc_cache.current_manifest"
   ]
  },
  {
   "cell_type": "code",
   "execution_count": null,
   "id": "fa9c3f09-c794-472d-8e99-7b6b4cb633d3",
   "metadata": {},
   "outputs": [],
   "source": [
    "abc_cache.list_directories"
   ]
  },
  {
   "cell_type": "code",
   "execution_count": null,
   "id": "d79982fa-18b5-477e-9593-f320500e43ca",
   "metadata": {},
   "outputs": [],
   "source": [
    "# Mouse WMB 10x\n",
    "#allen_meta_list = abc_cache.get_directory_metadata('WMB-taxonomy')\n",
    "#print(\"WMB-taxonomy metadata files:\\n\\t\", allen_meta_list)\n",
    "#allen_meta_list = abc_cache.get_directory_metadata('WMB-10X')\n",
    "#print(\"WMB-taxonomy metadata files:\\n\\t\", allen_meta_list)\n",
    "#allen_meta_list = abc_cache.get_directory_metadata('WMB-neighborhoods')\n",
    "#print(\"WMB-taxonomy metadata files:\\n\\t\", allen_meta_list)\n",
    "#allen_meta_list = abc_cache.get_directory_metadata('WMB-taxonomy')\n",
    "#print(\"WMB-taxonomy metadata files:\\n\\t\", allen_meta_list)\n",
    "\n",
    "# Mouse MERFISH\n",
    "# allen_meta_list = abc_cache.get_directory_metadata('MERFISH-C57BL6J-638850')\n",
    "# print(\"MERFISH metadata files:\\n\\t\", allen_meta_list)\n",
    "# allen_meta_list = abc_cache.get_directory_metadata('MERFISH-C57BL6J-638850-CCF')\n",
    "# print(\"MERFISH metadata files:\\n\\t\", allen_meta_list)\n",
    "\n",
    "# Human WHB 10x\n",
    "allen_meta_list = abc_cache.get_directory_metadata('WHB-10Xv3')\n",
    "print(\"WMB-taxonomy metadata files:\\n\\t\", allen_meta_list)\n",
    "allen_meta_list = abc_cache.get_directory_metadata('WHB-taxonomy')\n",
    "print(\"WMB-taxonomy metadata files:\\n\\t\", allen_meta_list)"
   ]
  },
  {
   "cell_type": "code",
   "execution_count": null,
   "id": "f1b28b17-a3b1-41d4-b3d4-914f7085d1e0",
   "metadata": {},
   "outputs": [],
   "source": [
    "# Mouse WMB 10x\n",
    "#allen_data_list = abc_cache.get_directory_data('WMB-10Xv3')\n",
    "#print(\"Allen data files:\\n\\t\", allen_data_list, \"\\n\\n\")\n",
    "#allen_data_list = abc_cache.get_directory_data('WMB-10Xv2')\n",
    "#print(\"Allen data files:\\n\\t\", allen_data_list, \"\\n\\n\")\n",
    "#allen_data_list = abc_cache.get_directory_data('WMB-10XMulti')\n",
    "#print(\"Allen data files:\\n\\t\", allen_data_list, \"\\n\\n\")\n",
    "\n",
    "# Mouse MERFISH\n",
    "# allen_data_list = abc_cache.get_directory_data('MERFISH-C57BL6J-638850')\n",
    "# print(\"Allen data files:\\n\\t\", allen_data_list, \"\\n\\n\")\n",
    "# allen_data_list = abc_cache.get_directory_data('MERFISH-C57BL6J-638850-CCF')\n",
    "# print(\"Allen data files:\\n\\t\", allen_data_list, \"\\n\\n\")\n",
    "# allen_data_list = abc_cache.get_directory_data('MERFISH-C57BL6J-638850-imputed')\n",
    "# print(\"Allen data files:\\n\\t\", allen_data_list, \"\\n\\n\")\n",
    "# allen_data_list = abc_cache.get_directory_data('MERFISH-C57BL6J-638850-sections')\n",
    "# print(\"Allen data files:\\n\\t\", allen_data_list, \"\\n\\n\")\n",
    "\n",
    "# Human WHB 10x\n",
    "allen_data_list = abc_cache.get_directory_data('WHB-10Xv3')\n",
    "print(\"Allen data files:\\n\\t\", allen_data_list, \"\\n\\n\")"
   ]
  }
 ],
 "metadata": {
  "kernelspec": {
   "display_name": "Python 3 (ipykernel)",
   "language": "python",
   "name": "python3"
  },
  "language_info": {
   "codemirror_mode": {
    "name": "ipython",
    "version": 3
   },
   "file_extension": ".py",
   "mimetype": "text/x-python",
   "name": "python",
   "nbconvert_exporter": "python",
   "pygments_lexer": "ipython3",
   "version": "3.12.11"
  }
 },
 "nbformat": 4,
 "nbformat_minor": 5
}
